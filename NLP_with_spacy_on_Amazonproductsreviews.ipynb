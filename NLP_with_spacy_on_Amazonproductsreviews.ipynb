{
  "nbformat": 4,
  "nbformat_minor": 0,
  "metadata": {
    "colab": {
      "provenance": [],
      "authorship_tag": "ABX9TyPXm0lwp31sCHfGNUyJxGhg",
      "include_colab_link": true
    },
    "kernelspec": {
      "name": "python3",
      "display_name": "Python 3"
    },
    "language_info": {
      "name": "python"
    }
  },
  "cells": [
    {
      "cell_type": "markdown",
      "metadata": {
        "id": "view-in-github",
        "colab_type": "text"
      },
      "source": [
        "<a href=\"https://colab.research.google.com/github/FaithMutua-code/Week3AssignmentAI/blob/main/NLP_with_spacy_on_Amazonproductsreviews.ipynb\" target=\"_parent\"><img src=\"https://colab.research.google.com/assets/colab-badge.svg\" alt=\"Open In Colab\"/></a>"
      ]
    },
    {
      "cell_type": "markdown",
      "source": [
        "Import necessary libraries"
      ],
      "metadata": {
        "id": "z8mPO09RIRNE"
      }
    },
    {
      "cell_type": "code",
      "source": [
        "import pandas as pd\n",
        "import spacy"
      ],
      "metadata": {
        "id": "oV3sq8b2ITmb"
      },
      "execution_count": 5,
      "outputs": []
    },
    {
      "cell_type": "markdown",
      "source": [
        "Load pre-trained spaCy model"
      ],
      "metadata": {
        "id": "F5RXrlynIWAV"
      }
    },
    {
      "cell_type": "code",
      "source": [
        "nlp = spacy.load(\"en_core_web_sm\")"
      ],
      "metadata": {
        "id": "kiWOPjaJIagd"
      },
      "execution_count": 6,
      "outputs": []
    },
    {
      "cell_type": "markdown",
      "source": [
        "Step 1: Load the Amazon reviews dataset from CSV"
      ],
      "metadata": {
        "id": "SFm_ho3LIdUT"
      }
    },
    {
      "cell_type": "code",
      "source": [
        "df = pd.read_csv('amazonreviews.csv', on_bad_lines='skip', quoting=3, engine='python')\n"
      ],
      "metadata": {
        "id": "aBGmLW9-Ijov"
      },
      "execution_count": 7,
      "outputs": []
    },
    {
      "cell_type": "code",
      "source": [
        "# Extract the reviews text column (handle any NaN values)\n",
        "reviews = df['reviews.text'].dropna().tolist()  # List of review texts\n",
        "# Limit to first 10 reviews for demonstration (as the full dataset may be large; adjust as needed)\n",
        "reviews = reviews[:10]"
      ],
      "metadata": {
        "id": "scXt0RGYIt-u"
      },
      "execution_count": 8,
      "outputs": []
    },
    {
      "cell_type": "markdown",
      "source": [
        "Step 2: Perform NER on each review to extract product names and brands"
      ],
      "metadata": {
        "id": "sJia2aHwI1Xt"
      }
    },
    {
      "cell_type": "code",
      "source": [
        "# (spaCy labels brands as 'ORG' often; 'PRODUCT' may not always trigger, so focus on relevant entities)\n",
        "for i, review in enumerate(reviews):\n",
        "    doc = nlp(review)\n",
        "    entities = [(ent.text, ent.label_) for ent in doc.ents if ent.label_ in ['PRODUCT', 'ORG']]  # Focus on products/brands\n",
        "    print(f\"Review {i+1}: {review}\")\n",
        "    print(f\"Extracted Entities: {entities}\")"
      ],
      "metadata": {
        "colab": {
          "base_uri": "https://localhost:8080/"
        },
        "id": "cVeSYjNfI3Bt",
        "outputId": "dfd4be1e-a6b6-49b6-84a7-79bb78732bfb"
      },
      "execution_count": 9,
      "outputs": [
        {
          "output_type": "stream",
          "name": "stdout",
          "text": [
            "Review 1: \"Paperwhite voyage\n",
            "Extracted Entities: []\n",
            "Review 2:  I still have half of my battery left as well.Make yourself happy. Inspire the reader inside of you.\"\n",
            "Extracted Entities: []\n",
            "Review 3:  I still have half of my battery left as well.Make yourself happy. Inspire the reader inside of you.\"\n",
            "Extracted Entities: []\n",
            "Review 4: \"Paperwhite voyage\n",
            "Extracted Entities: []\n",
            "Review 5:  and yes I actually own the item. ** Updated 04/07/14 **\"\n",
            "Extracted Entities: []\n",
            "Review 6: Nifty little device\n",
            "Extracted Entities: []\n",
            "Review 7: Flimsy Unstable Cover. Don't buy it.\n",
            "Extracted Entities: [('Flimsy Unstable Cover', 'ORG')]\n",
            "Review 8:  get a different case.\"\n",
            "Extracted Entities: []\n",
            "Review 9:  only a few minor issues\"\n",
            "Extracted Entities: []\n",
            "Review 10: Judy Schechter\n",
            "Extracted Entities: []\n"
          ]
        }
      ]
    },
    {
      "cell_type": "markdown",
      "source": [
        "Step 3: Rule-based sentiment analysis (simple: count positive/negative words)"
      ],
      "metadata": {
        "id": "PNvR5INKI6MP"
      }
    },
    {
      "cell_type": "code",
      "source": [
        "# Expanded word lists for better coverage based on common review language\n",
        "positive_words = {'love', 'amazing', 'great', 'excellent', 'fantastic', 'good', 'best', 'awesome', 'happy', 'enjoy', 'perfect'}\n",
        "negative_words = {'terrible', 'bad', 'worst', 'poor', 'avoid', 'disappointed', 'problem', 'waste', 'overpriced', 'regret', 'unhappy'}"
      ],
      "metadata": {
        "id": "dsuAW8huI_zI"
      },
      "execution_count": 10,
      "outputs": []
    },
    {
      "cell_type": "code",
      "source": [
        "for i, review in enumerate(reviews):\n",
        "    doc = nlp(review)\n",
        "    pos_count = sum(1 for token in doc if token.text.lower() in positive_words)\n",
        "    neg_count = sum(1 for token in doc if token.text.lower() in negative_words)\n",
        "    sentiment = 'Positive' if pos_count > neg_count else 'Negative' if neg_count > pos_count else 'Neutral'\n",
        "    print(f\"Review {i+1} Sentiment: {sentiment}\\n\")"
      ],
      "metadata": {
        "colab": {
          "base_uri": "https://localhost:8080/"
        },
        "id": "axsXtrk7JFjG",
        "outputId": "f46342d6-69e9-4440-989b-634358b01c4c"
      },
      "execution_count": 11,
      "outputs": [
        {
          "output_type": "stream",
          "name": "stdout",
          "text": [
            "Review 1 Sentiment: Neutral\n",
            "\n",
            "Review 2 Sentiment: Positive\n",
            "\n",
            "Review 3 Sentiment: Positive\n",
            "\n",
            "Review 4 Sentiment: Neutral\n",
            "\n",
            "Review 5 Sentiment: Neutral\n",
            "\n",
            "Review 6 Sentiment: Neutral\n",
            "\n",
            "Review 7 Sentiment: Neutral\n",
            "\n",
            "Review 8 Sentiment: Neutral\n",
            "\n",
            "Review 9 Sentiment: Neutral\n",
            "\n",
            "Review 10 Sentiment: Neutral\n",
            "\n"
          ]
        }
      ]
    }
  ]
}